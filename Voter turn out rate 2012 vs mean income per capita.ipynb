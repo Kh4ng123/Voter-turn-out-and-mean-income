{
 "cells": [
  {
   "cell_type": "code",
   "execution_count": 1,
   "id": "3a4a6ff5-1d41-4b87-add4-ece43cc0cf38",
   "metadata": {},
   "outputs": [
    {
     "name": "stdout",
     "output_type": "stream",
     "text": [
      "Collecting Pyarrow\n",
      "  Using cached https://files.pythonhosted.org/packages/00/bd/4c03789f723337723670e8cf8935b18e170e7af3813ec38e71d2cfb0bd93/pyarrow-12.0.1-cp37-cp37m-manylinux_2_17_x86_64.manylinux2014_x86_64.whl\n",
      "Requirement already satisfied: statsmodels in /opt/conda/envs/dsua-111/lib/python3.7/site-packages (0.11.0)\n",
      "Requirement already satisfied: scikit-learn in /opt/conda/envs/dsua-111/lib/python3.7/site-packages (0.22.1)\n",
      "Requirement already satisfied: numpy>=1.16.6 in /opt/conda/envs/dsua-111/lib/python3.7/site-packages (from Pyarrow) (1.18.1)\n",
      "Requirement already satisfied: pandas>=0.21 in /opt/conda/envs/dsua-111/lib/python3.7/site-packages (from statsmodels) (0.25.3)\n",
      "Requirement already satisfied: scipy>=1.0 in /opt/conda/envs/dsua-111/lib/python3.7/site-packages (from statsmodels) (1.4.1)\n",
      "Requirement already satisfied: patsy>=0.5 in /opt/conda/envs/dsua-111/lib/python3.7/site-packages (from statsmodels) (0.5.1)\n",
      "Requirement already satisfied: joblib>=0.11 in /opt/conda/envs/dsua-111/lib/python3.7/site-packages (from scikit-learn) (0.14.1)\n",
      "Requirement already satisfied: python-dateutil>=2.6.1 in /opt/conda/envs/dsua-111/lib/python3.7/site-packages (from pandas>=0.21->statsmodels) (2.8.1)\n",
      "Requirement already satisfied: pytz>=2017.2 in /opt/conda/envs/dsua-111/lib/python3.7/site-packages (from pandas>=0.21->statsmodels) (2019.3)\n",
      "Requirement already satisfied: six in /opt/conda/envs/dsua-111/lib/python3.7/site-packages (from patsy>=0.5->statsmodels) (1.13.0)\n",
      "Installing collected packages: Pyarrow\n",
      "\u001b[31mERROR: Could not install packages due to an EnvironmentError: [Errno 30] Read-only file system: '/opt/conda/envs/dsua-111/lib/python3.7/site-packages/pyarrow'\n",
      "\u001b[0m\n",
      "Note: you may need to restart the kernel to use updated packages.\n"
     ]
    }
   ],
   "source": [
    "pip install Pyarrow statsmodels scikit-learn "
   ]
  },
  {
   "cell_type": "code",
   "execution_count": 2,
   "id": "63bb2ac1-871c-48ff-bc18-2a750c0440bf",
   "metadata": {},
   "outputs": [],
   "source": [
    "import pandas as pd\n",
    "import numpy as np\n",
    "import matplotlib.pyplot as plt\n",
    "from sklearn.model_selection import train_test_split\n",
    "from sklearn.linear_model import LinearRegression\n",
    "from sklearn import metrics\n",
    "import statsmodels.formula.api as smf\n",
    "df = pd.read_csv(\"states_data.csv\")\n",
    "vep12_turnout = df[\"vep12_turnout\"]\n",
    "prcapinc = df[\"prcapinc\"]"
   ]
  },
  {
   "cell_type": "code",
   "execution_count": 3,
   "id": "db87ebd3-5391-4260-86e3-f807182ecb78",
   "metadata": {},
   "outputs": [],
   "source": [
    "def my_standardize(n):\n",
    "    standardizedArray = np.zeros_like(n, dtype=float)\n",
    "    mean = np.mean(n)\n",
    "    standardDeviation = np.std(n)\n",
    "    for i in range(len(n)):\n",
    "        z = (n[i] - mean)/standardDeviation\n",
    "        standardizedArray[i] = z\n",
    "    return standardizedArray\n",
    "    "
   ]
  },
  {
   "cell_type": "code",
   "execution_count": 4,
   "id": "3cb4d6d3-2130-4194-a714-806222a19ecc",
   "metadata": {},
   "outputs": [
    {
     "data": {
      "text/plain": [
       "Text(0.5, 1.0, 'standardized prcapinc vs vep12_turnout')"
      ]
     },
     "execution_count": 4,
     "metadata": {},
     "output_type": "execute_result"
    },
    {
     "data": {
      "image/png": "[encoded data removed]",
      "text/plain": [
       "<Figure size 432x288 with 1 Axes>"
      ]
     },
     "metadata": {
      "needs_background": "light"
     },
     "output_type": "display_data"
    }
   ],
   "source": [
    "vep12_turnout_standard = my_standardize(vep12_turnout)\n",
    "prcapinc_standard = my_standardize(prcapinc)\n",
    "plt.scatter(prcapinc_standard,vep12_turnout_standard)\n",
    "plt.xlabel(\"prcapinc\") \n",
    "plt.ylabel(\"vep12_turnout\")\n",
    "plt.title(\"standardized prcapinc vs vep12_turnout\")"
   ]
  },
  {
   "cell_type": "markdown",
   "id": "3be42ba5-b2cc-4644-bbf6-21b5af790373",
   "metadata": {},
   "source": [
    "The data points on both scatterplots look the same relatively to other points, they are just on different scales. The standardized scatterplot makes it easier to compare beccause the mean is 0 and standard dviation is 1"
   ]
  },
  {
   "cell_type": "code",
   "execution_count": 6,
   "id": "f88bf302-b954-414a-b5c4-acbc45c30ba1",
   "metadata": {},
   "outputs": [
    {
     "data": {
      "text/plain": [
       "True"
      ]
     },
     "execution_count": 6,
     "metadata": {},
     "output_type": "execute_result"
    }
   ],
   "source": [
    "def my_corr(x,y):\n",
    "    standardize_x = my_standardize(x)\n",
    "    standardize_y = my_standardize(y)\n",
    "    correlation = np.mean(standardize_x* standardize_y)\n",
    "    return correlation\n",
    "\n",
    "def gen_data():\n",
    "    m0, m1, v0, v1 = np.random.uniform(-5, 5, 4)\n",
    "    x = np.random.normal(m0, v0**2, 100)\n",
    "    y = np.random.normal(m1, v1**2, 100)\n",
    "    return x, y\n",
    "    \n",
    "def test_corr(my_corr):\n",
    "    for _ in range(100):\n",
    "        x, y = gen_data()\n",
    "        if not np.isclose(np.corrcoef(x,y)[0, 1], my_corr(x, y)):\n",
    "            return False\n",
    "    return True\n",
    "\n",
    "test_corr(my_corr)"
   ]
  },
  {
   "cell_type": "code",
   "execution_count": 7,
   "id": "f345c44e-fcd4-4f1b-920c-f5109c3e923f",
   "metadata": {},
   "outputs": [
    {
     "name": "stdout",
     "output_type": "stream",
     "text": [
      "0.39054295261645455\n"
     ]
    }
   ],
   "source": [
    "print(my_corr(prcapinc,vep12_turnout))"
   ]
  },
  {
   "cell_type": "markdown",
   "id": "d84b645f-fb68-4266-b008-3e36fbedec3d",
   "metadata": {},
   "source": [
    "There is a positive relationship with pearson correlation coefficient of 0.39 between mean income per capita and the voter turnout rate in the 2012 presidential election. States that have higher mean income per capita are more likely to have a higher voter turnout. Yet, we can't conclude that people with higher incomes are more likely to vote because correlation does not imply causation. Other factors can influence the voter turnout."
   ]
  },
  {
   "cell_type": "code",
   "execution_count": 8,
   "id": "ac9235cc-5129-4779-bab9-534043ca6019",
   "metadata": {},
   "outputs": [
    {
     "data": {
      "text/plain": [
       "0.0005735134590888056"
      ]
     },
     "execution_count": 8,
     "metadata": {},
     "output_type": "execute_result"
    }
   ],
   "source": [
    "def my_slope(x, y):\n",
    "    standardize_x = np.sum((x - np.mean(x)) * (y - np.mean(y)))\n",
    "    standardize_y = np.sum((x - np.mean(x)) ** 2)\n",
    "    slope = standardize_x / standardize_y\n",
    "    return slope\n",
    "\n",
    "my_slope(prcapinc,vep12_turnout)"
   ]
  },
  {
   "cell_type": "code",
   "execution_count": 9,
   "id": "d5ac1c97-a287-4ee9-b87c-38d902c602d5",
   "metadata": {},
   "outputs": [
    {
     "data": {
      "text/plain": [
       "True"
      ]
     },
     "execution_count": 9,
     "metadata": {},
     "output_type": "execute_result"
    }
   ],
   "source": [
    "def my_intercept(x, y):\n",
    "    intercept = np.mean(y) - my_slope(x, y)*np.mean(x)\n",
    "    return intercept\n",
    "\n",
    "my_intercept(prcapinc,vep12_turnout)\n",
    "\n",
    "def test_reg(my_intercept, my_slope):\n",
    "    for _ in range(100):\n",
    "        u, v = gen_data()\n",
    "        X = np.transpose(np.vstack([np.repeat(1.0, len(u)), u]))\n",
    "        a, b = np.dot(np.matmul(np.linalg.inv(np.matmul(X.T, X)), X.T), v)\n",
    "        if not np.isclose(b, my_slope(u, v)):\n",
    "            return False\n",
    "        if not np.isclose(a, my_intercept(u, v)):\n",
    "            return False\n",
    "    return True\n",
    "\n",
    "test_reg(my_intercept, my_slope)"
   ]
  },
  {
   "cell_type": "code",
   "execution_count": 10,
   "id": "ff1cf7ac-1d45-477d-aa15-1264babc5d1c",
   "metadata": {},
   "outputs": [
    {
     "name": "stdout",
     "output_type": "stream",
     "text": [
      "This is the slope 0.0005735134590888056\n",
      "This is the intercept 41.61161411730767\n"
     ]
    }
   ],
   "source": [
    "print(\"This is the slope\", my_slope(prcapinc,vep12_turnout))\n",
    "print(\"This is the intercept\", my_intercept(prcapinc,vep12_turnout))"
   ]
  },
  {
   "cell_type": "markdown",
   "id": "8eb49d41-89aa-4c85-b634-f864026fdbac",
   "metadata": {},
   "source": [
    "Slope: Indicates the average increase in voter turnout (vep12_turnout) is 0.0005735134590888056 for each dollar increase in mean income per capita (prcapinc). Intercept: Represents the expected value of vep12_turnout equals 41.61161411730767 when prcapinc is 0. While the intercept can provide insights into the data, it might not always have a meaningful interpretation, especially if a prcapinc of 0 is not plausible."
   ]
  },
  {
   "cell_type": "code",
   "execution_count": 11,
   "id": "b36e69ff-a40b-4e65-9e7b-879eda6c51c7",
   "metadata": {},
   "outputs": [],
   "source": [
    "def predict_reg(b, a, x):\n",
    "    y = b*x + a\n",
    "    return y"
   ]
  },
  {
   "cell_type": "code",
   "execution_count": 12,
   "id": "b1262a76-76f7-4824-81f4-6cd3bfbbb01e",
   "metadata": {},
   "outputs": [
    {
     "name": "stdout",
     "output_type": "stream",
     "text": [
      "This is the voter turnout rate for mean per capita of $15000 50.21431600363975\n",
      "This is the voter turnout rate for mean per capita of $25000 55.949450594527804\n",
      "This is the voter turnout rate for mean per capita of $30000 58.81701788997184\n"
     ]
    }
   ],
   "source": [
    "print(\"This is the voter turnout rate for mean per capita of $15000\", predict_reg(my_slope(prcapinc,vep12_turnout), my_intercept(prcapinc,vep12_turnout), 15000))\n",
    "print(\"This is the voter turnout rate for mean per capita of $25000\", predict_reg(my_slope(prcapinc,vep12_turnout), my_intercept(prcapinc,vep12_turnout), 25000))\n",
    "print(\"This is the voter turnout rate for mean per capita of $30000\", predict_reg(my_slope(prcapinc,vep12_turnout), my_intercept(prcapinc,vep12_turnout), 30000))\n"
   ]
  },
  {
   "cell_type": "code",
   "execution_count": 13,
   "id": "bf7de2f9-faf5-462a-8667-c0c1249afd89",
   "metadata": {},
   "outputs": [
    {
     "data": {
      "text/plain": [
       "Text(0.5, 1.0, 'unstandardized prcapinc vs vep12_turnout')"
      ]
     },
     "execution_count": 13,
     "metadata": {},
     "output_type": "execute_result"
    },
    {
     "data": {
      "image/png": "[encoded data removed]",
      "text/plain": [
       "<Figure size 432x288 with 1 Axes>"
      ]
     },
     "metadata": {
      "needs_background": "light"
     },
     "output_type": "display_data"
    }
   ],
   "source": [
    "point1 = predict_reg(my_slope(prcapinc,vep12_turnout), my_intercept(prcapinc,vep12_turnout), 15000)\n",
    "point2 = predict_reg(my_slope(prcapinc,vep12_turnout), my_intercept(prcapinc,vep12_turnout), 25000)\n",
    "point3 = predict_reg(my_slope(prcapinc,vep12_turnout), my_intercept(prcapinc,vep12_turnout), 30000)\n",
    "\n",
    "plt.scatter([15000, 25000, 30000], [point1, point2, point3], color='red')\n",
    "plt.scatter(prcapinc,vep12_turnout, color='blue')\n",
    "plt.xlabel(\"prcapinc\") \n",
    "plt.ylabel(\"vep12_turnout\")\n",
    "plt.title(\"unstandardized prcapinc vs vep12_turnout\")"
   ]
  },
  {
   "cell_type": "markdown",
   "id": "47b4319d-5832-449f-844e-8516a3e4e1c8",
   "metadata": {},
   "source": [
    "They are close to the observed data. The prediction is trust worthy, although we need to consider that 1 point in the added data is outside the range of the observed prcapinc, thus that point might not be a reliable extrapolated point"
   ]
  },
  {
   "cell_type": "code",
   "execution_count": 14,
   "id": "c6d6fb8f-a816-4973-99de-287af3ba673a",
   "metadata": {},
   "outputs": [
    {
     "name": "stdout",
     "output_type": "stream",
     "text": [
      "                            OLS Regression Results                            \n",
      "==============================================================================\n",
      "Dep. Variable:          vep12_turnout   R-squared:                       0.153\n",
      "Model:                            OLS   Adj. R-squared:                  0.135\n",
      "Method:                 Least Squares   F-statistic:                     8.639\n",
      "Date:                Sat, 24 Aug 2024   Prob (F-statistic):            0.00505\n",
      "Time:                        05:03:23   Log-Likelihood:                -160.15\n",
      "No. Observations:                  50   AIC:                             324.3\n",
      "Df Residuals:                      48   BIC:                             328.1\n",
      "Df Model:                           1                                         \n",
      "Covariance Type:            nonrobust                                         \n",
      "==============================================================================\n",
      "                 coef    std err          t      P>|t|      [0.025      0.975]\n",
      "------------------------------------------------------------------------------\n",
      "Intercept     41.6116      6.293      6.612      0.000      28.958      54.265\n",
      "prcapinc       0.0006      0.000      2.939      0.005       0.000       0.001\n",
      "==============================================================================\n",
      "Omnibus:                        0.403   Durbin-Watson:                   2.040\n",
      "Prob(Omnibus):                  0.818   Jarque-Bera (JB):                0.062\n",
      "Skew:                          -0.066   Prob(JB):                        0.970\n",
      "Kurtosis:                       3.111   Cond. No.                     2.36e+05\n",
      "==============================================================================\n",
      "\n",
      "Warnings:\n",
      "[1] Standard Errors assume that the covariance matrix of the errors is correctly specified.\n",
      "[2] The condition number is large, 2.36e+05. This might indicate that there are\n",
      "strong multicollinearity or other numerical problems.\n",
      "the value of the slope coefficient is 0.0006\n",
      "the value of T-statistics is 2.939\n",
      "the value of p-value is 0.005\n"
     ]
    }
   ],
   "source": [
    "import statsmodels.formula.api as smf\n",
    "import pandas as pd\n",
    "import numpy as np\n",
    "import matplotlib.pyplot as plt\n",
    "from sklearn.model_selection import train_test_split\n",
    "from sklearn.linear_model import LinearRegression\n",
    "from sklearn import metrics\n",
    "df = pd.read_csv(\"states_data.csv\")\n",
    "\n",
    "results = smf.ols('vep12_turnout ~ prcapinc', data=df).fit()\n",
    "print(results.summary())\n",
    "\n",
    "print(\"the value of the slope coefficient is 0.0006\")\n",
    "print(\"the value of T-statistics is 2.939\")\n",
    "print(\"the value of p-value is 0.005\")"
   ]
  },
  {
   "cell_type": "code",
   "execution_count": 15,
   "id": "69af8026-fafc-4821-bbcc-d19f72e23ea7",
   "metadata": {},
   "outputs": [
    {
     "name": "stdout",
     "output_type": "stream",
     "text": [
      "                            OLS Regression Results                            \n",
      "==============================================================================\n",
      "Dep. Variable:          vep12_turnout   R-squared:                       0.294\n",
      "Model:                            OLS   Adj. R-squared:                  0.213\n",
      "Method:                 Least Squares   F-statistic:                     3.658\n",
      "Date:                Sat, 24 Aug 2024   Prob (F-statistic):            0.00745\n",
      "Time:                        05:03:48   Log-Likelihood:                -155.59\n",
      "No. Observations:                  50   AIC:                             323.2\n",
      "Df Residuals:                      44   BIC:                             334.7\n",
      "Df Model:                           5                                         \n",
      "Covariance Type:            nonrobust                                         \n",
      "==============================================================================\n",
      "                 coef    std err          t      P>|t|      [0.025      0.975]\n",
      "------------------------------------------------------------------------------\n",
      "Intercept     38.7996      8.742      4.438      0.000      21.180      56.419\n",
      "prcapinc       0.0005      0.000      1.447      0.155      -0.000       0.001\n",
      "pop2010    -8.326e-08   1.42e-07     -0.585      0.561    -3.7e-07    2.04e-07\n",
      "college        0.5082      0.315      1.613      0.114      -0.127       1.143\n",
      "unemploy       0.7674      0.915      0.839      0.406      -1.076       2.611\n",
      "urban         -0.1561      0.073     -2.126      0.039      -0.304      -0.008\n",
      "==============================================================================\n",
      "Omnibus:                        0.357   Durbin-Watson:                   2.348\n",
      "Prob(Omnibus):                  0.836   Jarque-Bera (JB):                0.034\n",
      "Skew:                           0.038   Prob(JB):                        0.983\n",
      "Kurtosis:                       3.103   Cond. No.                     9.80e+07\n",
      "==============================================================================\n",
      "\n",
      "Warnings:\n",
      "[1] Standard Errors assume that the covariance matrix of the errors is correctly specified.\n",
      "[2] The condition number is large, 9.8e+07. This might indicate that there are\n",
      "strong multicollinearity or other numerical problems.\n"
     ]
    }
   ],
   "source": [
    "results = smf.ols('vep12_turnout ~ prcapinc + pop2010 + college + unemploy + urban', data=df).fit()\n",
    "print(results.summary())"
   ]
  },
  {
   "cell_type": "code",
   "execution_count": 16,
   "id": "0eee4b19-ca7c-4bdf-be62-b01fb6a8c01b",
   "metadata": {},
   "outputs": [
    {
     "data": {
      "text/html": [
       "<div>\n",
       "<style scoped>\n",
       "    .dataframe tbody tr th:only-of-type {\n",
       "        vertical-align: middle;\n",
       "    }\n",
       "\n",
       "    .dataframe tbody tr th {\n",
       "        vertical-align: top;\n",
       "    }\n",
       "\n",
       "    .dataframe thead th {\n",
       "        text-align: right;\n",
       "    }\n",
       "</style>\n",
       "<table border=\"1\" class=\"dataframe\">\n",
       "  <thead>\n",
       "    <tr style=\"text-align: right;\">\n",
       "      <th></th>\n",
       "      <th>prcapinc</th>\n",
       "      <th>pop2010</th>\n",
       "      <th>college</th>\n",
       "      <th>unemploy</th>\n",
       "      <th>urban</th>\n",
       "    </tr>\n",
       "  </thead>\n",
       "  <tbody>\n",
       "    <tr>\n",
       "      <th>34</th>\n",
       "      <td>31322</td>\n",
       "      <td>11536504</td>\n",
       "      <td>22.9</td>\n",
       "      <td>6.3</td>\n",
       "      <td>77.4</td>\n",
       "    </tr>\n",
       "    <tr>\n",
       "      <th>35</th>\n",
       "      <td>28089</td>\n",
       "      <td>3751351</td>\n",
       "      <td>21.9</td>\n",
       "      <td>4.9</td>\n",
       "      <td>65.3</td>\n",
       "    </tr>\n",
       "    <tr>\n",
       "      <th>9</th>\n",
       "      <td>30051</td>\n",
       "      <td>9687653</td>\n",
       "      <td>25.7</td>\n",
       "      <td>4.7</td>\n",
       "      <td>71.6</td>\n",
       "    </tr>\n",
       "    <tr>\n",
       "      <th>2</th>\n",
       "      <td>25725</td>\n",
       "      <td>2915918</td>\n",
       "      <td>19.1</td>\n",
       "      <td>5.9</td>\n",
       "      <td>52.5</td>\n",
       "    </tr>\n",
       "    <tr>\n",
       "      <th>21</th>\n",
       "      <td>31954</td>\n",
       "      <td>9883640</td>\n",
       "      <td>24.3</td>\n",
       "      <td>7.0</td>\n",
       "      <td>74.7</td>\n",
       "    </tr>\n",
       "    <tr>\n",
       "      <th>12</th>\n",
       "      <td>27098</td>\n",
       "      <td>1567582</td>\n",
       "      <td>24.0</td>\n",
       "      <td>5.3</td>\n",
       "      <td>66.4</td>\n",
       "    </tr>\n",
       "    <tr>\n",
       "      <th>38</th>\n",
       "      <td>33733</td>\n",
       "      <td>1052567</td>\n",
       "      <td>29.1</td>\n",
       "      <td>5.4</td>\n",
       "      <td>90.9</td>\n",
       "    </tr>\n",
       "    <tr>\n",
       "      <th>10</th>\n",
       "      <td>32160</td>\n",
       "      <td>1360301</td>\n",
       "      <td>28.2</td>\n",
       "      <td>3.4</td>\n",
       "      <td>91.5</td>\n",
       "    </tr>\n",
       "    <tr>\n",
       "      <th>42</th>\n",
       "      <td>30222</td>\n",
       "      <td>25145561</td>\n",
       "      <td>24.5</td>\n",
       "      <td>6.0</td>\n",
       "      <td>82.5</td>\n",
       "    </tr>\n",
       "    <tr>\n",
       "      <th>19</th>\n",
       "      <td>39247</td>\n",
       "      <td>5773552</td>\n",
       "      <td>34.5</td>\n",
       "      <td>4.2</td>\n",
       "      <td>86.1</td>\n",
       "    </tr>\n",
       "    <tr>\n",
       "      <th>41</th>\n",
       "      <td>30005</td>\n",
       "      <td>6346105</td>\n",
       "      <td>21.5</td>\n",
       "      <td>5.1</td>\n",
       "      <td>63.6</td>\n",
       "    </tr>\n",
       "    <tr>\n",
       "      <th>1</th>\n",
       "      <td>27795</td>\n",
       "      <td>4779736</td>\n",
       "      <td>21.1</td>\n",
       "      <td>5.8</td>\n",
       "      <td>55.4</td>\n",
       "    </tr>\n",
       "    <tr>\n",
       "      <th>4</th>\n",
       "      <td>35019</td>\n",
       "      <td>37253956</td>\n",
       "      <td>29.1</td>\n",
       "      <td>6.2</td>\n",
       "      <td>94.4</td>\n",
       "    </tr>\n",
       "    <tr>\n",
       "      <th>14</th>\n",
       "      <td>30094</td>\n",
       "      <td>6483802</td>\n",
       "      <td>21.0</td>\n",
       "      <td>5.3</td>\n",
       "      <td>70.8</td>\n",
       "    </tr>\n",
       "    <tr>\n",
       "      <th>36</th>\n",
       "      <td>29971</td>\n",
       "      <td>3831074</td>\n",
       "      <td>26.4</td>\n",
       "      <td>7.6</td>\n",
       "      <td>78.7</td>\n",
       "    </tr>\n",
       "  </tbody>\n",
       "</table>\n",
       "</div>"
      ],
      "text/plain": [
       "    prcapinc   pop2010  college  unemploy  urban\n",
       "34     31322  11536504     22.9       6.3   77.4\n",
       "35     28089   3751351     21.9       4.9   65.3\n",
       "9      30051   9687653     25.7       4.7   71.6\n",
       "2      25725   2915918     19.1       5.9   52.5\n",
       "21     31954   9883640     24.3       7.0   74.7\n",
       "12     27098   1567582     24.0       5.3   66.4\n",
       "38     33733   1052567     29.1       5.4   90.9\n",
       "10     32160   1360301     28.2       3.4   91.5\n",
       "42     30222  25145561     24.5       6.0   82.5\n",
       "19     39247   5773552     34.5       4.2   86.1\n",
       "41     30005   6346105     21.5       5.1   63.6\n",
       "1      27795   4779736     21.1       5.8   55.4\n",
       "4      35019  37253956     29.1       6.2   94.4\n",
       "14     30094   6483802     21.0       5.3   70.8\n",
       "36     29971   3831074     26.4       7.6   78.7"
      ]
     },
     "execution_count": 16,
     "metadata": {},
     "output_type": "execute_result"
    }
   ],
   "source": [
    "Y = df[[\"vep12_turnout\"]]\n",
    "X = df[[\"prcapinc\", \"pop2010\", \"college\", \"unemploy\", \"urban\"]]\n",
    "X_train, X_test, y_train, y_test = train_test_split(X, Y, test_size=0.3, random_state=2023)\n",
    "X_test\n"
   ]
  },
  {
   "cell_type": "code",
   "execution_count": 17,
   "id": "1c727060-9671-4697-a98b-8bda0002d6a3",
   "metadata": {},
   "outputs": [
    {
     "data": {
      "text/plain": [
       "LinearRegression(copy_X=True, fit_intercept=True, n_jobs=None, normalize=False)"
      ]
     },
     "execution_count": 17,
     "metadata": {},
     "output_type": "execute_result"
    }
   ],
   "source": [
    "lr = LinearRegression()\n",
    "lr.fit(X_train, y_train)"
   ]
  },
  {
   "cell_type": "code",
   "execution_count": null,
   "id": "2393be5d-6d98-420c-8caf-ee4bbfcdec55",
   "metadata": {},
   "outputs": [],
   "source": []
  }
 ],
 "metadata": {
  "kernelspec": {
   "display_name": "Python [conda env:dsua-111]",
   "language": "python",
   "name": "conda-env-dsua-111-py"
  },
  "language_info": {
   "codemirror_mode": {
    "name": "ipython",
    "version": 3
   },
   "file_extension": ".py",
   "mimetype": "text/x-python",
   "name": "python",
   "nbconvert_exporter": "python",
   "pygments_lexer": "ipython3",
   "version": "3.7.6"
  }
 },
 "nbformat": 4,
 "nbformat_minor": 5
}
